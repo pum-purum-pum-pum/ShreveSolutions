{
 "cells": [
  {
   "cell_type": "code",
   "execution_count": 1,
   "metadata": {
    "collapsed": true
   },
   "outputs": [],
   "source": [
    "from IPython.display import display, Markdown, Latex\n",
    "def printmd(s):\n",
    "    display(Markdown(s))"
   ]
  },
  {
   "cell_type": "markdown",
   "metadata": {},
   "source": [
    "# Exercise 3.1"
   ]
  },
  {
   "cell_type": "markdown",
   "metadata": {},
   "source": [
    "(i) \n",
    "$\\forall \\omega \\in \\Omega: Z > 0$, since $\\forall \\omega \\in \\Omega \\overline{P}(\\omega) > 0, P(\\omega) > 0$\n",
    "\n",
    "(ii) $\\overline{E}\\frac{1}{Z}$\n",
    "\n",
    "$$ \\sum\\limits_{\\omega \\in \\Omega} \\frac{\\overline{P}(\\omega) P(\\omega)}{\\overline{P}(\\omega)} = 1$$\n",
    "\n",
    "(iii) $\\overline{E}[\\frac{1}{Z} Y] = \\sum\\limits_{\\omega \\in \\Omega} \\frac{ \\overline{P}(\\omega) P(\\omega) }{\\overline{P}(\\omega) } Y = \\mathbb{E}Y$"
   ]
  },
  {
   "cell_type": "markdown",
   "metadata": {},
   "source": [
    "# Exercise 3.2"
   ]
  },
  {
   "cell_type": "markdown",
   "metadata": {},
   "source": [
    "(i) $\\overline{P}(\\Omega) = \\sum\\limits_{\\omega \\in \\Omega} Z(\\omega) P(\\omega) = \\mathbb{E}Z = 1$"
   ]
  },
  {
   "cell_type": "markdown",
   "metadata": {},
   "source": [
    "(ii) $\\overline{\\mathbb{E}}Y = \\mathbb{E}[ZY]$\n",
    "\n",
    "$\\overline{\\mathbb{E}} Y = \\sum\\limits_{\\omega \\in \\Omega} \\overline{P}(\\omega) Y = \\sum \\limits_{\\omega \\in \\Omega} P(\\omega) \\frac{\\overline{P}(\\omega)}{P(\\omega)}Y = \\mathbb{E}[ZY]$"
   ]
  },
  {
   "cell_type": "markdown",
   "metadata": {},
   "source": [
    "(iii)\n",
    "$P(A) = \\sum\\limits_{\\omega \\in A} P(\\omega) = 0$  since $P(\\omega) \\ge 0$ => $P(\\omega) = 0 \\ \\forall \\omega \\in \\Omega$ => $\\overline{P}(A) = \\sum P(\\omega) Z(\\omega) = 0$"
   ]
  },
  {
   "cell_type": "markdown",
   "metadata": {},
   "source": [
    "(iv) \n",
    "$\\overline{P}(A) = \\sum\\limits_\\omega \\overline{P}(\\omega) = \\sum Z P (\\omega) = 0$\n",
    "Since $P(Z > 0) = 1$, then $P(\\omega) = 0 \\ \\forall \\omega \\in A$ => $P(A) = 0$"
   ]
  },
  {
   "cell_type": "markdown",
   "metadata": {},
   "source": [
    "(v) \n",
    "\n",
    "$P(A) = 1$  <=> $P(\\overline{A}) = 0$\n",
    "\n",
    "$P(\\overline{A}) = 0$ <=> $\\overline{P}(\\overline{A}) = 0$ <=> $\\overline{P}(A) = 1$"
   ]
  },
  {
   "cell_type": "markdown",
   "metadata": {},
   "source": [
    "# Exercise 3.3"
   ]
  },
  {
   "cell_type": "markdown",
   "metadata": {},
   "source": [
    "Calculate M values:"
   ]
  },
  {
   "cell_type": "code",
   "execution_count": 2,
   "metadata": {},
   "outputs": [
    {
     "name": "stdout",
     "output_type": "stream",
     "text": [
      "M_2(HH)=24.0\n",
      "M_2(HT)=6.0\n",
      "M_2(TH)=6.0\n",
      "M_2(TT)=1.5\n",
      "M_1(H)=18.0\n",
      "M_1(T)=4.5\n"
     ]
    }
   ],
   "source": [
    "p = 1/3\n",
    "q = 2/3\n",
    "def S(a):\n",
    "    res = 4\n",
    "    for i in a:\n",
    "        if i == \"H\":\n",
    "            res *= 2\n",
    "        else:\n",
    "            res /= 2\n",
    "    return res\n",
    "\n",
    "\n",
    "def M(a):\n",
    "    if len(a) == 3:\n",
    "        return S(a)\n",
    "    return q * M(a + \"H\") + p * M(a + \"T\")\n",
    "\n",
    "\n",
    "m2 = [\"HH\", \"HT\", \"TH\", \"TT\"]\n",
    "m1 = [\"H\", \"T\"]\n",
    "for w in m2 + m1:\n",
    "    print(\"M_{}({})={}\".format(len(w), w, M(w)))"
   ]
  },
  {
   "cell_type": "markdown",
   "metadata": {},
   "source": [
    "$M_3 = S_3$"
   ]
  },
  {
   "cell_type": "markdown",
   "metadata": {},
   "source": [
    "## Check $M_n$ is martingale"
   ]
  },
  {
   "cell_type": "code",
   "execution_count": 3,
   "metadata": {
    "collapsed": true
   },
   "outputs": [],
   "source": [
    "assert(q * M(\"HH\") + p * M(\"HT\") == M(\"H\"))\n",
    "assert(q * M(\"TH\") + p * M(\"TT\") == M(\"T\"))\n",
    "assert(q * M(\"H\") + p * M(\"T\") == M(\"\"))"
   ]
  },
  {
   "cell_type": "markdown",
   "metadata": {},
   "source": [
    "So\n",
    "$M_n$ is martingale"
   ]
  },
  {
   "cell_type": "markdown",
   "metadata": {},
   "source": [
    "# Exercise 3.4"
   ]
  },
  {
   "cell_type": "markdown",
   "metadata": {},
   "source": [
    "I)\n",
    "$$\\zeta_3(HHH) = \\frac{Z_3}{(r + 1)^3} = \\frac{27}{64} \\frac{4^3}{5^3} = \\frac{27}{125}$$\n",
    "$$\\zeta_3(HHT) = \\zeta_3(HTH) = \\zeta_3(THH) = \\frac{27}{32} \\frac{64}{125} = \\frac{54}{125}$$\n",
    "$$\\zeta_3(HTT) = \\zeta_3(THT) = \\zeta_3(TTH) = \\frac{27}{16} \\frac{64}{125} = \\frac{108}{125}$$\n",
    "$$\\zeta_3(TTT) = \\frac{216}{125}$$"
   ]
  },
  {
   "cell_type": "code",
   "execution_count": 4,
   "metadata": {
    "collapsed": true
   },
   "outputs": [],
   "source": [
    "zeta = {(3, 0): 27 / 125, (2, 1): 54 / 125, (1, 2): 108 / 125, (0, 3): 216 / 125}"
   ]
  },
  {
   "cell_type": "markdown",
   "metadata": {},
   "source": [
    "II)\n",
    "Number of paths is 8. They match $v_n(s, y)$ values:"
   ]
  },
  {
   "cell_type": "code",
   "execution_count": 5,
   "metadata": {
    "scrolled": true
   },
   "outputs": [
    {
     "data": {
      "text/markdown": [
       "$v_3(32, 60) = 11.0$"
      ],
      "text/plain": [
       "<IPython.core.display.Markdown object>"
      ]
     },
     "metadata": {},
     "output_type": "display_data"
    },
    {
     "data": {
      "text/markdown": [
       "$v_3(8.0, 36.0) = 5.0$"
      ],
      "text/plain": [
       "<IPython.core.display.Markdown object>"
      ]
     },
     "metadata": {},
     "output_type": "display_data"
    },
    {
     "data": {
      "text/markdown": [
       "$v_3(8.0, 24.0) = 2.0$"
      ],
      "text/plain": [
       "<IPython.core.display.Markdown object>"
      ]
     },
     "metadata": {},
     "output_type": "display_data"
    },
    {
     "data": {
      "text/markdown": [
       "$v_3(2.0, 18.0) = 0.5$"
      ],
      "text/plain": [
       "<IPython.core.display.Markdown object>"
      ]
     },
     "metadata": {},
     "output_type": "display_data"
    },
    {
     "data": {
      "text/markdown": [
       "$v_3(8.0, 18.0) = 0.5$"
      ],
      "text/plain": [
       "<IPython.core.display.Markdown object>"
      ]
     },
     "metadata": {},
     "output_type": "display_data"
    },
    {
     "data": {
      "text/markdown": [
       "$v_3(2.0, 12.0) = 0$"
      ],
      "text/plain": [
       "<IPython.core.display.Markdown object>"
      ]
     },
     "metadata": {},
     "output_type": "display_data"
    },
    {
     "data": {
      "text/markdown": [
       "$v_3(2.0, 9.0) = 0$"
      ],
      "text/plain": [
       "<IPython.core.display.Markdown object>"
      ]
     },
     "metadata": {},
     "output_type": "display_data"
    },
    {
     "data": {
      "text/markdown": [
       "$v_3(0.5, 7.5) = 0$"
      ],
      "text/plain": [
       "<IPython.core.display.Markdown object>"
      ]
     },
     "metadata": {},
     "output_type": "display_data"
    }
   ],
   "source": [
    "def mean_path(a):\n",
    "    current_value = 4\n",
    "    res = current_value\n",
    "    for i in a:\n",
    "        if i == \"H\":\n",
    "            current_value *= 2\n",
    "            res += current_value\n",
    "        else:\n",
    "            current_value /= 2\n",
    "            res += current_value\n",
    "    return current_value, res\n",
    "\n",
    "paths = [\"HHH\", \"HHT\", \"HTH\", \"HTT\", \"THH\", \"THT\", \"TTH\", \"TTT\"]\n",
    "get_price = lambda sy: max(0, 0.25 * sy[1] - 4)\n",
    "for path in paths:\n",
    "    v_args = list(mean_path(path))\n",
    "    v_args.append(get_price(v_args))\n",
    "    printmd(\"$v_3({}, {}) = {}$\".format(*v_args))"
   ]
  },
  {
   "cell_type": "markdown",
   "metadata": {},
   "source": [
    "by replication in multiperiod binomial model:\n",
    "$$V_n(\\omega_1 \\omega_2..\\omega_n) = \\frac{1}{1 + r}[\\overline{p} V_{n+1}(\\omega_1 \\omega_2..\\omega_n H) + \\overline{q}V_{n+1}(\\omega_1 \\omega_2..\\omega_n T) ]$$\n",
    "\n",
    "$\\overline{q} = \\frac{1 + r - d}{u - d} = \\frac{1 + 1/4 - 1/2}{2 - 1/2} = 1/2 = 1 - 1/2 = \\overline{p}$\n",
    "\n",
    "$$ v_n(s, y) = \\frac{2}{5}(v_{n+1}(2s, y + 2s) + v_{n + 1}(s/2, y + s/2))$$"
   ]
  },
  {
   "cell_type": "code",
   "execution_count": 6,
   "metadata": {},
   "outputs": [
    {
     "data": {
      "text/markdown": [
       "$v_2(16, 28) = 6.4$"
      ],
      "text/plain": [
       "<IPython.core.display.Markdown object>"
      ]
     },
     "metadata": {},
     "output_type": "display_data"
    },
    {
     "data": {
      "text/markdown": [
       "$v_2(4.0, 16.0) = 1.0$"
      ],
      "text/plain": [
       "<IPython.core.display.Markdown object>"
      ]
     },
     "metadata": {},
     "output_type": "display_data"
    },
    {
     "data": {
      "text/markdown": [
       "$v_2(4.0, 10.0) = 0.2$"
      ],
      "text/plain": [
       "<IPython.core.display.Markdown object>"
      ]
     },
     "metadata": {},
     "output_type": "display_data"
    },
    {
     "data": {
      "text/markdown": [
       "$v_2(1.0, 7.0) = 0.0$"
      ],
      "text/plain": [
       "<IPython.core.display.Markdown object>"
      ]
     },
     "metadata": {},
     "output_type": "display_data"
    }
   ],
   "source": [
    "paths2 = [\"HH\", \"HT\", \"TH\", \"TT\"]\n",
    "values2 = []\n",
    "for path in paths2:\n",
    "    v_args = list(mean_path(path))\n",
    "    v_args.append(2.0 / 5.0 * (get_price(mean_path(path + \"H\")) + get_price(mean_path((path + \"T\")))))\n",
    "    printmd(\"$v_2({}, {}) = {}$\".format(*v_args))\n",
    "    values2.append(v_args[-1])"
   ]
  },
  {
   "cell_type": "code",
   "execution_count": 7,
   "metadata": {},
   "outputs": [
    {
     "data": {
      "text/markdown": [
       "$v_1(8, 12) = 2.9600000000000004$"
      ],
      "text/plain": [
       "<IPython.core.display.Markdown object>"
      ]
     },
     "metadata": {},
     "output_type": "display_data"
    },
    {
     "data": {
      "text/markdown": [
       "$v_1(2.0, 6.0) = 0.08000000000000002$"
      ],
      "text/plain": [
       "<IPython.core.display.Markdown object>"
      ]
     },
     "metadata": {},
     "output_type": "display_data"
    },
    {
     "data": {
      "text/markdown": [
       "$v_0 = 1.2160000000000002$"
      ],
      "text/plain": [
       "<IPython.core.display.Markdown object>"
      ]
     },
     "metadata": {},
     "output_type": "display_data"
    }
   ],
   "source": [
    "values2\n",
    "Hargs = list(mean_path(\"H\")) +[ 2.0/5.0 * (values2[0] + values2[1])]\n",
    "printmd(\"$v_1({}, {}) = {}$\".format(*Hargs))\n",
    "Targs = list(mean_path(\"T\")) +[ 2.0/5.0 * (values2[2] + values2[3])]\n",
    "printmd(\"$v_1({}, {}) = {}$\".format(*Targs))\n",
    "v1 = [Hargs[-1]] + [Targs[-1]]\n",
    "printmd(\"$v_0 = {}$\".format(2.0/5.0 * (sum(v1))))"
   ]
  },
  {
   "cell_type": "code",
   "execution_count": 13,
   "metadata": {
    "collapsed": true
   },
   "outputs": [],
   "source": [
    "def get_prob_path(a):\n",
    "    res = 1.0\n",
    "    for i in a:\n",
    "        if i == \"H\":\n",
    "            res *= q\n",
    "        else:\n",
    "            res *= p\n",
    "    return res"
   ]
  },
  {
   "cell_type": "markdown",
   "metadata": {},
   "source": [
    "back to the problem. By 3.1.10\n",
    "\n",
    "$$v_0(4, 4) = \\mathbb{E}[\\zeta V_N] = \\sum\\limits_{\\omega \\in \\Omega} V_N(\\omega) \\zeta(\\omega) P(\\omega)$$"
   ]
  },
  {
   "cell_type": "code",
   "execution_count": 26,
   "metadata": {
    "collapsed": true
   },
   "outputs": [],
   "source": [
    "res = 0\n",
    "for path in paths:\n",
    "    current = get_price(mean_path(path)) * zeta[path.count(\"H\"), path.count(\"T\")] * get_prob_path(path) \n",
    "    res += current\n",
    "# check computation results are the same\n",
    "assert(res == 2.0/5.0 * (sum(v1)))"
   ]
  },
  {
   "cell_type": "markdown",
   "metadata": {},
   "source": [
    "By 3.2.6\n",
    "$$ V_n = \\frac{1}{\\zeta_n} \\mathbb{E}_n[\\zeta_N V_N] $$\n",
    "\n",
    "$$\\zeta_2(HT) = \\frac{Z_2(HT)}{(1 + r)^2} = \\frac{9}{8} \\frac{16}{25} = \\frac{18}{25} = \\zeta_2(TH)$$\n",
    "$$V_2(HT) = v_2(4, 16) = \\frac{25}{18} \\cdot (\\frac{2}{3} \\cdot \\frac{54}{125} \\cdot 2 + \\frac{1}{3} \\cdot \\frac{108}{125} \\cdot 0.5) = 1$$\n",
    "$$V_2(TH) = v_2(4, 10) = \\frac{25}{18} (\\frac{2}{3} \\cdot \\frac{54}{125} \\cdot 1/2 + \\frac{1}{3} \\cdot \\frac{108}{125} \\cdot 0) = 0.144$$"
   ]
  },
  {
   "cell_type": "markdown",
   "metadata": {},
   "source": [
    "# Exercise 3.5"
   ]
  },
  {
   "cell_type": "markdown",
   "metadata": {},
   "source": [
    "$$ \\overline{p} = \\frac{1 + r - d}{u - d} $$\n",
    "\n",
    "$$ \\overline{q} = \\frac{u - 1 - r}{u - d} $$\n",
    "\n",
    "$$ P(HH) = \\frac{4}{9}, P(HT) = \\frac{2}{9}, P(TH) = \\frac{2}{9}, P(TT) = \\frac{1}{9}$$"
   ]
  },
  {
   "cell_type": "markdown",
   "metadata": {},
   "source": [
    "#### $$u_0 = 2, d_0 = 1/2$$\n",
    "$$u_1(H) = 3/2, d_1(H) = 1$$\n",
    "$$u_1(T) = 4, d_1(T) = 1$$\n",
    "\n",
    "#### Calculate $\\overline{P}$\n",
    "\n",
    "$\\overline{P_0} = \\frac{1 + 1/4 - 1/2}{2 - 1/2} = 1/2$\n",
    "\n",
    "$\\overline{Q_0} = 1/2$\n",
    "\n",
    "$\\overline{P_1}(H) = \\frac{1 + 1/4 - 1}{3/2 - 1} = 1/2$\n",
    "\n",
    "$\\overline{Q_1}(H) = 1/2$\n",
    "\n",
    "$\\overline{P_1}(T) = \\frac{1 + 1/2 - 1}{4 - 1} = 1/6$\n",
    "\n",
    "$\\overline{Q_1}(T) = 5/6$\n",
    "\n",
    "$\\overline{P}(HH) = \\overline{P}_0 \\overline{P}_1(H) = 1/2 \\cdot 1/2 = 1/4$\n",
    "\n",
    "$\\overline{P}(HT) = \\overline{P}_0 \\overline{Q}_1(H) = 1/4$\n",
    "\n",
    "$\\overline{P}(TH) = \\overline{Q}_0 \\overline{P}_1(T) = 1/2 \\cdot 1/6 = 1/12$\n",
    "\n",
    "$\\overline{P}(TT) = \\overline{Q}_0 \\overline{Q}_1(T) = 1/2 \\cdot 5/6 = 5/12$"
   ]
  },
  {
   "cell_type": "markdown",
   "metadata": {},
   "source": [
    "I)\n",
    "#### Calculate Z:\n",
    "\n",
    "$Z(HH) = \\frac{1}{4} \\cdot \\frac{9}{4} = \\frac{9}{16}$\n",
    "\n",
    "$Z(HT) = \\frac{1}{4} \\cdot \\frac{9}{2} = \\frac{9}{8}$\n",
    "\n",
    "$Z(TH) = \\frac{1}{12} \\cdot \\frac{9}{2} = \\frac{3}{8}$\n",
    "\n",
    "$Z(TT) = \\frac{5}{12} \\cdot 9 = \\frac{15}{4}$"
   ]
  },
  {
   "cell_type": "markdown",
   "metadata": {},
   "source": [
    "II)\n",
    "\n",
    "$Z_1(H) = P_1(H|\\omega_0 = H) Z_2(HH) + P_1(T| \\omega_0 = T) Z_2(HT)=$\n",
    "$\\frac{2}{3} \\frac{9}{16} +  \\frac{1}{3} \\cdot \\frac{9}{8}= \\frac{3}{8} + \\frac{3}{8} = \\frac{3}{4}$\n",
    "$Z_1(T) = P_1(H|\\omega_0 = T) Z_2(TH) + P_1(T| \\omega_0 = T) Z_2(TT)=$\n",
    "$\\frac{2}{3} \\frac{3}{8} + \\frac{1}{3} \\cdot \\frac{15}{4} = \\frac{1}{4} + \\frac{5}{4} = \\frac{3}{2}$"
   ]
  },
  {
   "cell_type": "markdown",
   "metadata": {},
   "source": [
    "iii) \n",
    "\n",
    "Let $H/T$ denote $H$ or $T$\n",
    "$$V_1(H/T) = \\frac{1}{Z_1(H/T)(1 + r_1(H/T))} \\cdot \\sum V_2 Z_2 P_1$$\n",
    "\n",
    "where\n",
    "$V_2 = (S_2 - 7)^+$\n",
    "\n",
    "$V_2(HH) = 5$\n",
    "\n",
    "$V_2(HT) = 1$\n",
    "\n",
    "$V_2(TH) = 1$\n",
    "\n",
    "$V_2(TT) = 0$"
   ]
  },
  {
   "cell_type": "markdown",
   "metadata": {},
   "source": [
    "calculate\n",
    "$V_1(H)$"
   ]
  },
  {
   "cell_type": "code",
   "execution_count": 47,
   "metadata": {},
   "outputs": [
    {
     "data": {
      "text/plain": [
       "2.4"
      ]
     },
     "execution_count": 47,
     "metadata": {},
     "output_type": "execute_result"
    }
   ],
   "source": [
    "v = [5, 1]\n",
    "p = [2/3, 1/3]\n",
    "z = [9/16, 9/8]\n",
    "res = 0\n",
    "for i, j, k in zip(v, p, z):\n",
    "    res += i * j * k\n",
    "1/(3/4 * (1 + 1/4)) * res"
   ]
  },
  {
   "cell_type": "markdown",
   "metadata": {},
   "source": [
    "calculate $V_1(T)$"
   ]
  },
  {
   "cell_type": "code",
   "execution_count": 55,
   "metadata": {},
   "outputs": [
    {
     "data": {
      "text/plain": [
       "0.1111111111111111"
      ]
     },
     "execution_count": 55,
     "metadata": {},
     "output_type": "execute_result"
    }
   ],
   "source": [
    "2/3 * 3/8 * (1 / ((3/2)*(1 + 1/2)))"
   ]
  },
  {
   "cell_type": "markdown",
   "metadata": {},
   "source": [
    "calculate $V_0$\n",
    "\n",
    "$$V_0 = \\mathbb{E}[\\frac{Z_2}{(1 + r_0)(1 + r_1)} V_2] = $$\n",
    "$$=\\frac{1}{(1 + 1/4)(1 + 1/4)} \\cdot (Z(HH) V_2(HH)P(HH) + Z(HT)V_2(HT)P(HT) + Z(TH)V(TH)P(TH)) =$$\n",
    "\n",
    "$$ = \\frac{4}{5} \\cdot (\\frac{4}{5} \\frac{9}{16} \\cdot 5 \\cdot \\frac{1}{9} + \\frac{2}{3} \\frac{9}{8} \\frac{2}{9} + \\frac{3}{8} \\frac{2}{9}) = 1.00(4)$$"
   ]
  },
  {
   "cell_type": "code",
   "execution_count": 68,
   "metadata": {},
   "outputs": [
    {
     "data": {
      "text/plain": [
       "1.0044444444444445"
      ]
     },
     "execution_count": 68,
     "metadata": {},
     "output_type": "execute_result"
    }
   ],
   "source": [
    "(4/5) * (4/5 * 9/16 * 4 /9 * 5 + 4/5 * 9/8 * 2/9 + 2/3 * 3/8 * 2/9)"
   ]
  },
  {
   "cell_type": "markdown",
   "metadata": {},
   "source": [
    "# Exercise 3.6\n",
    "$U(x) = ln(x)$ is utility function\n",
    "\n",
    "By Lagrange multipliers method we get:\n",
    "$$L(x, \\lambda) = \\sum\\limits_{m = 1}^{M} p_m U(x_m) + \\lambda (X_0 - \\sum\\limits_{m = 1}^{M} p_m x_m \\zeta_m)$$\n",
    "\n",
    "$$\\forall k=1..M: p_k U'(x_k) - \\lambda p_k \\zeta_k = 0$$\n",
    "\n",
    "$$ U'(x_k) = \\lambda \\zeta_k $$\n",
    "(3.3.25)\n",
    "\n",
    "Since $U(x) = \\log(x)$\n",
    "\n",
    "$$ x_k = \\frac{1}{\\lambda \\zeta_k} $$\n",
    "\n",
    "$$ X_n = I(\\frac{\\lambda Z}{(1 + r)^N}) $$\n",
    "and by (3.3.26)\n",
    "\n",
    "$$ \\mathbb{E} \\big[\\frac{Z}{(1 + r)^N} I\\big(\\frac{\\lambda Z}{(1 + r)^N}\\big)\\big] = X_0 $$\n",
    "\n",
    "where $I$ in our case is $I=\\frac{1}{x}$\n",
    "\n",
    "$$X_0 = \\mathbb{E}\\big[ \\frac{Z}{(1+r)^N} \\frac{(1 + r)^N}{\\lambda Z} \\big]$$\n",
    "\n",
    "we have $\\lambda = \\frac{1}{X_0}$\n",
    "\n",
    "Hence\n",
    "$x_k = \\frac{X_0}{\\zeta_k}$\n",
    "\n",
    "...check $\\Delta$"
   ]
  },
  {
   "cell_type": "markdown",
   "metadata": {},
   "source": [
    "# Exercise 3.7\n",
    "Given:\n",
    "$U(x) = \\frac{x^p}{p}, p<1, p \\neq 0$\n",
    "\n",
    "Show: \n",
    "\n",
    "$X_n = \\frac{x_0 (1 + r)^N Z^{\\frac{1}{p - 1}}}{\\mathbb{E}\\big[ Z^{\\frac{p}{p - 1}} \\big]}$\n",
    "\n",
    "Solution:\n",
    "\n",
    "Again, by Lagrange method\n",
    "$$L(x, \\lambda) = \\sum\\limits_{m = 1}^{M} p_m U(x_m) + \\lambda (X_0 - \\sum\\limits_{m = 1}^{M} p_m x_m \\zeta_m)$$\n",
    "from previous task $$ U'(x_k) = \\lambda \\zeta_k $$\n",
    "\n",
    "...check $\\Delta$"
   ]
  },
  {
   "cell_type": "markdown",
   "metadata": {},
   "source": [
    "$U'(x_k) = x_k^{p - 1} = \\lambda \\frac{Z}{(1 + r)^N}$\n",
    "\n"
   ]
  },
  {
   "cell_type": "markdown",
   "metadata": {},
   "source": [
    "$x_k = \\frac{ \\lambda^{\\frac{1}{p - 1}}   Z^{\\frac{1}{p - 1}}  }\n",
    "          {  (1 + r)^{\\frac{N}{p - 1}}  }$"
   ]
  },
  {
   "cell_type": "markdown",
   "metadata": {},
   "source": [
    "$$ \\mathbb{E} \\big[\\frac{Z}{(1 + r)^N} I\\big(\\frac{\\lambda Z}{(1 + r)^N}\\big)\\big] = X_0 $$"
   ]
  },
  {
   "cell_type": "markdown",
   "metadata": {},
   "source": [
    "$I(x) = x^{\\frac{1}{p - 1}}$\n",
    "So we have\n",
    "\n",
    "$$ \\mathbb{E} \\big[\\frac{Z}{(1 + r)^N} \\big(\\frac{\\lambda Z}{(1 + r)^N}\\big)^{\\frac{1}{p - 1}} \\big] = X_0 $$"
   ]
  },
  {
   "cell_type": "markdown",
   "metadata": {},
   "source": [
    "$$ X_0 = \\frac{1}{(1 + r)^N} \\lambda^{\\frac{1}{p-1}} \\frac{1}{(1 + r)^\\frac{N}{p-1}} \\mathbb{E} Z^{\\frac{1}{p - 1} + 1} $$"
   ]
  },
  {
   "cell_type": "markdown",
   "metadata": {},
   "source": [
    "$$ \\lambda = \\frac{X_0^{p - 1} (1 + r)^{N(p - 1) + N}}{(\\mathbb{E} Z^{\\frac{p}{p - 1}}) ^{p - 1}}$$"
   ]
  },
  {
   "cell_type": "markdown",
   "metadata": {},
   "source": [
    "$$ x_k = \\frac{X_0 (1 + r)^{N + N/(p - 1)}}{\\mathbb{E} Z^{\\frac{p}{p - 1}}} \\frac{Z^{ \\frac{1}{p - 1} }}{ (1 + r)^{N/(p - 1)}}$$\n",
    "\n",
    "$$ = \n",
    "X_n = \\frac{x_0 (1 + r)^N Z^{\\frac{1}{p - 1}}}{\\mathbb{E}\\big[ Z^{\\frac{p}{p - 1}} \\big]} $$"
   ]
  },
  {
   "cell_type": "markdown",
   "metadata": {},
   "source": [
    "# Exercise 3.8"
   ]
  },
  {
   "cell_type": "markdown",
   "metadata": {},
   "source": [
    "$x = I(y)$ is  maximum point\n",
    "\n",
    "$$\\forall x: U(x) - yx \\le U(I(y)) - y I(y) $$"
   ]
  },
  {
   "cell_type": "markdown",
   "metadata": {},
   "source": [
    "###### I)"
   ]
  },
  {
   "cell_type": "markdown",
   "metadata": {},
   "source": [
    "$(U(x) - yx)'_x$ = 0"
   ]
  },
  {
   "cell_type": "markdown",
   "metadata": {},
   "source": [
    "y = U'(x)"
   ]
  },
  {
   "cell_type": "markdown",
   "metadata": {},
   "source": [
    "Then \n",
    "$x = I(y)$\n",
    "Since function concave and $x = I(y)$ is extreme point it's maximum point. \n",
    "$$\\forall x: U(x) - yx \\le U(I(y)) - y I(y) $$"
   ]
  },
  {
   "cell_type": "markdown",
   "metadata": {},
   "source": [
    "###### II)"
   ]
  },
  {
   "cell_type": "markdown",
   "metadata": {},
   "source": [
    "$$ \\mathbb{E} \\big[ U(X_n) \\big] - \\mathbb{E} \\big[  \\frac{\\lambda Z}{(1 + r)^N} X_n \\big]\n",
    "\\le \\mathbb{E} \\big[ U(I(\\frac{\\lambda Z}{(1 + r)^N})) \\big]  - \\mathbb{E} \\big[ \\frac{\\lambda Z}{(1 + r)^N} I(\\frac{\\lambda Z}{(1 + r)^N}) \\big]  $$"
   ]
  },
  {
   "cell_type": "markdown",
   "metadata": {},
   "source": [
    "(3.3.26) is\n",
    "\n",
    "\n",
    "$$ \\mathbb{E} \\big[\\frac{Z}{(1 + r)^N} I\\big(\\frac{\\lambda Z}{(1 + r)^N}\\big)\\big] = X_0 $$"
   ]
  },
  {
   "cell_type": "markdown",
   "metadata": {},
   "source": [
    "(3.3.19) is\n",
    "\n",
    "$$\\overline{\\mathbb{E}} \\frac{X_N}{(1 + r)^N} = X_0$$"
   ]
  },
  {
   "cell_type": "markdown",
   "metadata": {},
   "source": [
    "$\\mathbb{E} \\big[  \\frac{\\lambda Z}{(1 + r)^N} X_n \\big] = \\lambda X_0$"
   ]
  },
  {
   "cell_type": "markdown",
   "metadata": {},
   "source": [
    "$\\mathbb{E} \\big[ U(I(\\frac{\\lambda Z}{(1 + r)^N})) \\big] = \\mathbb{E}\\big[ U(X_N^*) \\big]$"
   ]
  },
  {
   "cell_type": "markdown",
   "metadata": {},
   "source": [
    "$\\mathbb{E} \\big[ \\frac{\\lambda Z}{(1 + r)^N} I(\\frac{\\lambda Z}{(1 + r)^N}) \\big] =\n",
    "\\overline{\\mathbb{E}}\\big[ \\frac{\\lambda}{(1 + r)^N} X^*_N \\big] = \\lambda X_0$"
   ]
  }
 ],
 "metadata": {
  "celltoolbar": "Raw Cell Format",
  "kernelspec": {
   "display_name": "Python 3",
   "language": "python",
   "name": "python3"
  },
  "language_info": {
   "codemirror_mode": {
    "name": "ipython",
    "version": 3
   },
   "file_extension": ".py",
   "mimetype": "text/x-python",
   "name": "python",
   "nbconvert_exporter": "python",
   "pygments_lexer": "ipython3",
   "version": "3.6.3"
  }
 },
 "nbformat": 4,
 "nbformat_minor": 2
}
