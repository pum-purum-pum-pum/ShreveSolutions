{
 "cells": [
  {
   "cell_type": "code",
   "execution_count": 1,
   "metadata": {
    "collapsed": true
   },
   "outputs": [],
   "source": [
    "from IPython.display import display, Markdown, Latex\n",
    "def printmd(s):\n",
    "    display(Markdown(s))"
   ]
  },
  {
   "cell_type": "markdown",
   "metadata": {},
   "source": [
    "# Exercise 4.1\n"
   ]
  },
  {
   "cell_type": "markdown",
   "metadata": {},
   "source": [
    "I) $V_2^P(HH) = max(-12, \\frac{2}{5}(0 + 0)) = 0$\n",
    "\n",
    "$V_2^P(HT) = V_2^P(TH) = max(4 - 4, \\frac{2}{5} ((4 - 8)^+ + (4 - 2)^+) ) = 0.8$\n",
    "\n",
    "$V_2^P(TT) = 3, V_1^P(H) = 0.32, V_1^P(T) = 2$\n",
    "\n",
    "$V_0^P = 9.28$\n",
    "\n",
    "II) $V_0^C = 5$\n",
    "\n",
    "III)\n",
    "\n",
    "IV) \n",
    "\n",
    "a > b and d > c OR d > a and b > c\n",
    "\n",
    "<=>\n",
    "\n",
    "$\\max(a, b) + max(c, d) \\ge \\max(a + c, b + d)$"
   ]
  },
  {
   "cell_type": "markdown",
   "metadata": {},
   "source": [
    "$$V_n^S = \\max\\Big(g_S(S_n),  \\frac{\\overline{p} V_{n + 1}^S + \\overline{q} V_{n + 1}^S}{1 + r}\\Big)$$\n",
    "By induction (by n. n+1 -> n transition)\n",
    "$$ \\le \\max \\Big(g_P(S_n) + g_C(S_n), \\frac{\\overline{\\mathbb{E}} V_{n+1}^P + \\overline{\\mathbb{E}} V_{n+1}^C}{1 + r}\\Big) $$\n",
    "$$ \\le \\max \\Big(g_P(S_n), \\frac{\\overline{\\mathbb{E}} V_{n+1}^P }{1 + r}\\Big) + \\max \\Big(g_C(S_n), \\frac{\\overline{\\mathbb{E}} V_{n+1}^C}{1 + r}\\Big) = V_n^P + V_n^C$$"
   ]
  },
  {
   "cell_type": "markdown",
   "metadata": {},
   "source": [
    "# Exercise 4.2\n"
   ]
  },
  {
   "cell_type": "markdown",
   "metadata": {},
   "source": [
    "$\\Delta_1(H) = \\frac{V_2(HH) - V_2(HT)}{S_2(HH) - S_2(HT)} = -\\frac{1}{12}$\n",
    "\n",
    "$\\Delta_1(T) = \\frac{V_2(TH) - V_2(TT)}{S_2(TH) - S_2(TT)} = -\\frac{1}{12}$\n",
    "\n",
    "$\\Delta_0 = \\frac{V_1(H) - V_1(T)}{S_1(H) - S_1(T)} = -0.43$\n",
    "\n",
    "$\\tau(HH) = \\infty, \\tau(HT) = 2, \\tau(TH)=\\tau(TT) = 1$\n",
    "\n",
    "\n",
    "* first borrow money and buy 0.43 shares \n",
    "\n",
    "* If first coin toss is T then borrow exercise put at time 1\n",
    "\n",
    "* If H then borrow money and buy 1/12 shares\n",
    "\n",
    "* Then depending on coin toss agent should exercise his put or let it expire. He will pay his debt because he hedged on the previous step (1/12 shares)"
   ]
  },
  {
   "cell_type": "markdown",
   "metadata": {},
   "source": [
    "# Exercise 4.3"
   ]
  },
  {
   "cell_type": "code",
   "execution_count": 9,
   "metadata": {},
   "outputs": [],
   "source": [
    "S = {\\\n",
    "    \"\": 4, \\\n",
    "    \"H\": 8, \\\n",
    "    \"T\": 2, \\\n",
    "    \"HH\": 16,\\\n",
    "    \"HT\": 4, \\\n",
    "    \"TH\": 4, \\\n",
    "    \"TT\": 1, \\\n",
    "    \"HHH\": 32,\\\n",
    "    \"HHT\": 8, \\\n",
    "    \"HTH\": 8, \\\n",
    "    \"THH\": 8, \\\n",
    "    \"HTT\": 2, \\\n",
    "    \"THT\":2, \\\n",
    "    \"TTH\":2, \\\n",
    "    \"TTT\": 0.5\\\n",
    "}"
   ]
  },
  {
   "cell_type": "code",
   "execution_count": 22,
   "metadata": {
    "collapsed": true
   },
   "outputs": [],
   "source": [
    "def g(x):\n",
    "    s = 0.0\n",
    "    for i in range(len(x)+ 1):\n",
    "        s += S[x[:i]]\n",
    "    return 4 - s / (len(x) + 1) "
   ]
  },
  {
   "cell_type": "code",
   "execution_count": 31,
   "metadata": {},
   "outputs": [
    {
     "name": "stdout",
     "output_type": "stream",
     "text": [
      "G() 0.0\n",
      "G(H) -2.0\n",
      "G(T) 1.0\n",
      "G(HH) -5.333333333333334\n",
      "G(HT) -1.333333333333333\n",
      "G(TH) 0.6666666666666665\n",
      "G(TT) 1.6666666666666665\n",
      "G(HHH) -11.0\n",
      "G(HHT) -5.0\n",
      "G(HTH) -2.0\n",
      "G(THH) -0.5\n",
      "G(HTT) -0.5\n",
      "G(THT) 1.0\n",
      "G(TTH) 1.75\n",
      "G(TTT) 2.125\n"
     ]
    }
   ],
   "source": [
    "for i in S.keys():\n",
    "    print(\"G({})\".format(i), g(i))"
   ]
  },
  {
   "cell_type": "markdown",
   "metadata": {},
   "source": [
    "$V(THT) = 1.0$\n",
    "\n",
    "$V(TTH) = 1.75$\n",
    "\n",
    "$V(TTT) = 2.125$"
   ]
  },
  {
   "cell_type": "markdown",
   "metadata": {},
   "source": [
    "None zero V"
   ]
  },
  {
   "cell_type": "markdown",
   "metadata": {},
   "source": [
    "$V_1(TT) = 5/3$\n",
    "\n",
    "$V_1(TH) = 2/3$\n",
    "\n",
    "$V_1(T) = 1$\n",
    "\n",
    "$$V_0 = 0.4$$"
   ]
  },
  {
   "cell_type": "markdown",
   "metadata": {},
   "source": [
    "So if first coin toss results in H then stopping time is $=\\infty$, else it's $=1$ "
   ]
  }
 ],
 "metadata": {
  "kernelspec": {
   "display_name": "Python 3",
   "language": "python",
   "name": "python3"
  },
  "language_info": {
   "codemirror_mode": {
    "name": "ipython",
    "version": 3
   },
   "file_extension": ".py",
   "mimetype": "text/x-python",
   "name": "python",
   "nbconvert_exporter": "python",
   "pygments_lexer": "ipython3",
   "version": "3.6.3"
  }
 },
 "nbformat": 4,
 "nbformat_minor": 2
}
